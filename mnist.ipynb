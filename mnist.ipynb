{
 "cells": [
  {
   "cell_type": "code",
   "execution_count": 1,
   "metadata": {
    "collapsed": true
   },
   "outputs": [],
   "source": [
    "import numpy as np\n",
    "import tensorflow as tf\n",
    "%matplotlib inline\n",
    "import matplotlib.pyplot as plt\n",
    "import csv"
   ]
  },
  {
   "cell_type": "markdown",
   "metadata": {},
   "source": [
    "# Inspecting data"
   ]
  },
  {
   "cell_type": "code",
   "execution_count": 2,
   "metadata": {
    "collapsed": true
   },
   "outputs": [],
   "source": [
    "train_file = 'train.csv'"
   ]
  },
  {
   "cell_type": "code",
   "execution_count": 3,
   "metadata": {},
   "outputs": [
    {
     "data": {
      "image/png": "[encoded data removed]",
      "text/plain": [
       "<matplotlib.figure.Figure at 0x28bb6404e48>"
      ]
     },
     "metadata": {},
     "output_type": "display_data"
    }
   ],
   "source": [
    "reader = csv.reader(open(train_file, 'r'))\n",
    "# Skip header\n",
    "next(reader, None)\n",
    "for line in reader:\n",
    "    label, *pixels = line\n",
    "    pixels = np.array(pixels, dtype=np.int32)\n",
    "    image = pixels.reshape((28,28))\n",
    "    plt.figure()\n",
    "    plt.title('Digit: {}'.format(label))\n",
    "    plt.imshow(image, cmap='gray')\n",
    "    break"
   ]
  },
  {
   "cell_type": "markdown",
   "metadata": {},
   "source": [
    "# Training with images as 1D vectors"
   ]
  },
  {
   "cell_type": "code",
   "execution_count": 6,
   "metadata": {
    "collapsed": true
   },
   "outputs": [],
   "source": [
    "# Jupyter note: hold CTRL and click cursor in multiple locations to insert.\n",
    "# hold ALT and drag cursor to select/insert in vertical lines of code.\n",
    "\n",
    "def csv_to_data_matrix(csv_file, add_bias_unit=False):\n",
    "    ''' Reads in a csv file path and\n",
    "    returns a numpy.array of shape (N, 784 + 1 optional bias unit).'''\n",
    "    reader = csv.reader(open(csv_file, 'r'))\n",
    "    # Skip header\n",
    "    next(reader, None)\n",
    "    data = []\n",
    "    labels = []\n",
    "    for line in reader:\n",
    "        label, *vector = line\n",
    "        vector = np.array(vector, dtype=np.int32)\n",
    "        if add_bias_unit:\n",
    "            vector = np.hstack((vector, 1))\n",
    "        data.append(vector)\n",
    "        labels.append(label)\n",
    "    return np.array(labels, dtype=np.int64), np.array(data, dtype=np.float32)\n",
    "\n",
    "def get_random_batch(X, labels, batch_size):\n",
    "    ''' An iterator over batches of\n",
    "    size batch_size on data matrix X. '''\n",
    "    n = len(X)\n",
    "    while True:\n",
    "        indices = np.random.permutation(n)[:batch_size]\n",
    "        x_batch = X[indices]\n",
    "        labels_batch = labels[indices]\n",
    "        yield labels_batch, x_batch\n",
    "\n",
    "def get_placeholders(x_size, num_classes=10, add_bias_unit=True, batch_size=None):\n",
    "    ''' Returns tf.placeholders for batches of\n",
    "    input data and labels.'''\n",
    "    X = tf.placeholder(\"float\", shape=[batch_size, x_size])\n",
    "    y = tf.placeholder(tf.int64, shape=[batch_size])\n",
    "    return X, y\n",
    "\n",
    "def init_weights(shape):\n",
    "    \"\"\" Weight initialization \"\"\"\n",
    "    weights = tf.random_normal(shape, stddev=0.1)\n",
    "    return tf.Variable(weights)\n",
    "\n",
    "def predict(X, x_size, y_size, h_size):\n",
    "    ''' Predict the labels of data in the batch.'''\n",
    "    # Weight initializations\n",
    "    w_1 = init_weights((x_size, h_size))\n",
    "    w_2 = init_weights((h_size, y_size))\n",
    "\n",
    "    # Forward propagation\n",
    "    h = tf.nn.relu(tf.matmul(X, w_1))\n",
    "    logits = tf.matmul(h, w_2)\n",
    "    \n",
    "    return logits\n",
    "\n",
    "def loss(logits, labels):\n",
    "    ''' Return the loss on batch of labels and predictions.'''\n",
    "    cost = tf.reduce_mean(tf.nn.sparse_softmax_cross_entropy_with_logits(labels=labels, logits=logits))\n",
    "    return cost\n",
    "\n",
    "def train_step(loss, learning_rate=0.001):\n",
    "    ''' Return one training step (gradient descent) of size\n",
    "    learning_rate that minimizes the loss.'''\n",
    "    updates = tf.train.GradientDescentOptimizer(learning_rate).minimize(loss)\n",
    "    return updates\n",
    "\n",
    "def accuracy(logits, labels):\n",
    "    ''' Return accuracy for batch given logits.'''\n",
    "    predictions = tf.argmax(logits, 1)\n",
    "    equality = tf.equal(predictions, labels)\n",
    "    acc = tf.reduce_mean(tf.cast(equality, tf.float32))\n",
    "    return acc"
   ]
  },
  {
   "cell_type": "code",
   "execution_count": 7,
   "metadata": {
    "collapsed": true
   },
   "outputs": [],
   "source": [
    "# Implementation of a simple MLP network with one hidden layer. Tested on the iris data set.\n",
    "# Requires: numpy, sklearn>=0.18.1, tensorflow>=1.0\n",
    "\n",
    "# NOTE: In order to make the code simple, we rewrite x * W_1 + b_1 = x' * W_1'\n",
    "# where x' = [x | 1] and W_1' is the matrix W_1 appended with a new row with elements b_1's.\n",
    "# Similarly, for h * W_2 + b_2\n",
    "# Reference: https://gist.github.com/vinhkhuc/e53a70f9e5c3f55852b0\n",
    "\n",
    "\n"
   ]
  },
  {
   "cell_type": "code",
   "execution_count": 8,
   "metadata": {
    "collapsed": true
   },
   "outputs": [],
   "source": [
    "labels, X = csv_to_data_matrix(train_file, True)"
   ]
  },
  {
   "cell_type": "code",
   "execution_count": 9,
   "metadata": {},
   "outputs": [],
   "source": [
    "add_bias_unit = True\n",
    "x_size = 785 if add_bias_unit else 784\n",
    "y_size = 10\n",
    "h_size = 200\n",
    "batch_size = 8\n",
    "\n",
    "# Create computational graph in Tensorflow\n",
    "batch_pl, labels_pl = get_placeholders(x_size, y_size, add_bias_unit, batch_size)\n",
    "logits = predict(batch_pl, x_size, y_size, h_size)\n",
    "batch_loss = loss(logits, labels_pl)\n",
    "train_op = train_step(batch_loss)\n",
    "batch_accuracy = accuracy(logits, labels_pl)"
   ]
  },
  {
   "cell_type": "code",
   "execution_count": 10,
   "metadata": {},
   "outputs": [
    {
     "name": "stdout",
     "output_type": "stream",
     "text": [
      "Step: 0\tLoss: 265.73992919921875\tAccuracy: 0.125\n",
      "Step: 500\tLoss: 2.3025851249694824\tAccuracy: 0.0\n",
      "Step: 1000\tLoss: 2.3025851249694824\tAccuracy: 0.0\n",
      "Step: 1500\tLoss: 2.3025851249694824\tAccuracy: 0.0\n",
      "Step: 2000\tLoss: 2.3025851249694824\tAccuracy: 0.125\n",
      "Step: 2500\tLoss: 2.3025851249694824\tAccuracy: 0.125\n",
      "Step: 3000\tLoss: 2.0147619247436523\tAccuracy: 0.125\n",
      "Step: 3500\tLoss: 2.3025851249694824\tAccuracy: 0.125\n",
      "Step: 4000\tLoss: 2.3025851249694824\tAccuracy: 0.0\n",
      "Step: 4500\tLoss: 2.0147619247436523\tAccuracy: 0.125\n",
      "Step: 5000\tLoss: 2.3025851249694824\tAccuracy: 0.125\n",
      "Step: 5500\tLoss: 2.3025851249694824\tAccuracy: 0.0\n",
      "Step: 6000\tLoss: 2.3025851249694824\tAccuracy: 0.0\n",
      "Step: 6500\tLoss: 2.3025851249694824\tAccuracy: 0.125\n",
      "Step: 7000\tLoss: 2.3025851249694824\tAccuracy: 0.125\n",
      "Step: 7500\tLoss: 2.3025851249694824\tAccuracy: 0.0\n",
      "Step: 8000\tLoss: 2.3025851249694824\tAccuracy: 0.25\n",
      "Step: 8500\tLoss: 2.3025851249694824\tAccuracy: 0.25\n",
      "Step: 9000\tLoss: 2.3025851249694824\tAccuracy: 0.25\n",
      "Step: 9500\tLoss: 2.3025851249694824\tAccuracy: 0.125\n",
      "Step: 10000\tLoss: 2.3025851249694824\tAccuracy: 0.0\n",
      "Step: 10500\tLoss: 2.3025851249694824\tAccuracy: 0.125\n",
      "Step: 11000\tLoss: 2.3025851249694824\tAccuracy: 0.25\n",
      "Step: 11500\tLoss: 2.3025851249694824\tAccuracy: 0.125\n",
      "Step: 12000\tLoss: 2.3025851249694824\tAccuracy: 0.0\n",
      "Step: 12500\tLoss: 2.3025851249694824\tAccuracy: 0.0\n",
      "Step: 13000\tLoss: 2.3025851249694824\tAccuracy: 0.0\n",
      "Step: 13500\tLoss: 2.3025851249694824\tAccuracy: 0.0\n",
      "Step: 14000\tLoss: 2.3025851249694824\tAccuracy: 0.125\n",
      "Step: 14500\tLoss: 2.3025851249694824\tAccuracy: 0.0\n",
      "Step: 15000\tLoss: 2.3025851249694824\tAccuracy: 0.0\n",
      "Step: 15500\tLoss: 2.3025851249694824\tAccuracy: 0.25\n",
      "Step: 16000\tLoss: 2.3025851249694824\tAccuracy: 0.125\n",
      "Step: 16500\tLoss: 2.3025851249694824\tAccuracy: 0.0\n",
      "Step: 17000\tLoss: 2.3025851249694824\tAccuracy: 0.0\n",
      "Step: 17500\tLoss: 2.3025851249694824\tAccuracy: 0.0\n",
      "Step: 18000\tLoss: 2.3025851249694824\tAccuracy: 0.0\n",
      "Step: 18500\tLoss: 2.3025851249694824\tAccuracy: 0.0\n",
      "Step: 19000\tLoss: 2.3025851249694824\tAccuracy: 0.125\n",
      "Step: 19500\tLoss: 2.3025851249694824\tAccuracy: 0.0\n",
      "Step: 20000\tLoss: 2.3025851249694824\tAccuracy: 0.125\n",
      "Step: 20500\tLoss: 2.3025851249694824\tAccuracy: 0.25\n",
      "Step: 21000\tLoss: 2.3025851249694824\tAccuracy: 0.125\n",
      "Step: 21500\tLoss: 2.3025851249694824\tAccuracy: 0.125\n",
      "Step: 22000\tLoss: 2.3025851249694824\tAccuracy: 0.125\n",
      "Step: 22500\tLoss: 2.3025851249694824\tAccuracy: 0.25\n",
      "Step: 23000\tLoss: 2.3025851249694824\tAccuracy: 0.125\n",
      "Step: 23500\tLoss: 2.3025851249694824\tAccuracy: 0.0\n",
      "Step: 24000\tLoss: 2.3025851249694824\tAccuracy: 0.0\n",
      "Step: 24500\tLoss: 2.3025851249694824\tAccuracy: 0.0\n",
      "Step: 25000\tLoss: 2.3025851249694824\tAccuracy: 0.0\n",
      "Step: 25500\tLoss: 2.3025851249694824\tAccuracy: 0.0\n",
      "Step: 26000\tLoss: 2.3025851249694824\tAccuracy: 0.0\n",
      "Step: 26500\tLoss: 2.3025851249694824\tAccuracy: 0.375\n",
      "Step: 27000\tLoss: 2.3025851249694824\tAccuracy: 0.125\n",
      "Step: 27500\tLoss: 2.3025851249694824\tAccuracy: 0.125\n",
      "Step: 28000\tLoss: 2.3025851249694824\tAccuracy: 0.125\n",
      "Step: 28500\tLoss: 2.3025851249694824\tAccuracy: 0.0\n",
      "Step: 29000\tLoss: 2.3025851249694824\tAccuracy: 0.125\n",
      "Step: 29500\tLoss: 2.3025851249694824\tAccuracy: 0.0\n",
      "Step: 30000\tLoss: 2.3025851249694824\tAccuracy: 0.125\n",
      "Step: 30500\tLoss: 2.3025851249694824\tAccuracy: 0.25\n",
      "Step: 31000\tLoss: 2.3025851249694824\tAccuracy: 0.125\n",
      "Step: 31500\tLoss: 2.3025851249694824\tAccuracy: 0.375\n",
      "Step: 32000\tLoss: 2.3025851249694824\tAccuracy: 0.125\n",
      "Step: 32500\tLoss: 2.3025851249694824\tAccuracy: 0.0\n",
      "Step: 33000\tLoss: 2.3025851249694824\tAccuracy: 0.0\n",
      "Step: 33500\tLoss: 2.3025851249694824\tAccuracy: 0.25\n",
      "Step: 34000\tLoss: 2.3025851249694824\tAccuracy: 0.0\n",
      "Step: 34500\tLoss: 2.3025851249694824\tAccuracy: 0.375\n",
      "Step: 35000\tLoss: 2.3025851249694824\tAccuracy: 0.25\n",
      "Step: 35500\tLoss: 2.3025851249694824\tAccuracy: 0.25\n",
      "Step: 36000\tLoss: 2.3025851249694824\tAccuracy: 0.625\n",
      "Step: 36500\tLoss: 2.3025851249694824\tAccuracy: 0.125\n",
      "Step: 37000\tLoss: 2.3025851249694824\tAccuracy: 0.125\n",
      "Step: 37500\tLoss: 2.3025851249694824\tAccuracy: 0.25\n",
      "Step: 38000\tLoss: 2.3025851249694824\tAccuracy: 0.125\n",
      "Step: 38500\tLoss: 2.3025851249694824\tAccuracy: 0.25\n",
      "Step: 39000\tLoss: 2.3025851249694824\tAccuracy: 0.0\n",
      "Step: 39500\tLoss: 2.3025851249694824\tAccuracy: 0.0\n",
      "Step: 40000\tLoss: 2.3025851249694824\tAccuracy: 0.125\n"
     ]
    }
   ],
   "source": [
    "# Run training\n",
    "batches = get_random_batch(X, labels, batch_size)\n",
    "init = tf.global_variables_initializer()\n",
    "i = 0\n",
    "max_steps = 40000\n",
    "with tf.Session() as sess:\n",
    "    sess.run(init)        \n",
    "    for batch in batches:\n",
    "        labels_batch, x_batch = batch\n",
    "        if i > max_steps:\n",
    "            break\n",
    "        # Single step of gradient descent on a batch\n",
    "        _, _loss, _accuracy = sess.run([train_op, batch_loss, batch_accuracy],\n",
    "                                     feed_dict={batch_pl: x_batch, labels_pl: labels_batch})\n",
    "        if i % 500 == 0:\n",
    "            print('Step: {}\\tLoss: {}\\tAccuracy: {}'.format(i, _loss, _accuracy))\n",
    "        i += 1"
   ]
  },
  {
   "cell_type": "code",
   "execution_count": null,
   "metadata": {
    "collapsed": true
   },
   "outputs": [],
   "source": []
  },
  {
   "cell_type": "code",
   "execution_count": null,
   "metadata": {
    "collapsed": true
   },
   "outputs": [],
   "source": []
  },
  {
   "cell_type": "code",
   "execution_count": null,
   "metadata": {
    "collapsed": true
   },
   "outputs": [],
   "source": []
  },
  {
   "cell_type": "code",
   "execution_count": null,
   "metadata": {
    "collapsed": true
   },
   "outputs": [],
   "source": []
  },
  {
   "cell_type": "code",
   "execution_count": null,
   "metadata": {
    "collapsed": true
   },
   "outputs": [],
   "source": []
  },
  {
   "cell_type": "code",
   "execution_count": null,
   "metadata": {
    "collapsed": true
   },
   "outputs": [],
   "source": []
  },
  {
   "cell_type": "markdown",
   "metadata": {},
   "source": [
    "# Evaluating 1D vector model"
   ]
  },
  {
   "cell_type": "code",
   "execution_count": null,
   "metadata": {
    "collapsed": true
   },
   "outputs": [],
   "source": []
  },
  {
   "cell_type": "code",
   "execution_count": null,
   "metadata": {
    "collapsed": true
   },
   "outputs": [],
   "source": []
  },
  {
   "cell_type": "code",
   "execution_count": null,
   "metadata": {
    "collapsed": true
   },
   "outputs": [],
   "source": [
    "\n"
   ]
  },
  {
   "cell_type": "code",
   "execution_count": null,
   "metadata": {
    "collapsed": true
   },
   "outputs": [],
   "source": []
  },
  {
   "cell_type": "code",
   "execution_count": null,
   "metadata": {
    "collapsed": true
   },
   "outputs": [],
   "source": []
  },
  {
   "cell_type": "code",
   "execution_count": null,
   "metadata": {
    "collapsed": true
   },
   "outputs": [],
   "source": []
  },
  {
   "cell_type": "markdown",
   "metadata": {},
   "source": [
    "# Saving submission to file"
   ]
  },
  {
   "cell_type": "code",
   "execution_count": null,
   "metadata": {
    "collapsed": true
   },
   "outputs": [],
   "source": []
  },
  {
   "cell_type": "code",
   "execution_count": null,
   "metadata": {
    "collapsed": true
   },
   "outputs": [],
   "source": []
  },
  {
   "cell_type": "code",
   "execution_count": null,
   "metadata": {
    "collapsed": true
   },
   "outputs": [],
   "source": []
  },
  {
   "cell_type": "code",
   "execution_count": null,
   "metadata": {
    "collapsed": true
   },
   "outputs": [],
   "source": []
  },
  {
   "cell_type": "markdown",
   "metadata": {},
   "source": [
    "# Training CNN with 2D images"
   ]
  },
  {
   "cell_type": "code",
   "execution_count": null,
   "metadata": {
    "collapsed": true
   },
   "outputs": [],
   "source": []
  },
  {
   "cell_type": "code",
   "execution_count": null,
   "metadata": {
    "collapsed": true
   },
   "outputs": [],
   "source": []
  },
  {
   "cell_type": "code",
   "execution_count": null,
   "metadata": {
    "collapsed": true
   },
   "outputs": [],
   "source": []
  },
  {
   "cell_type": "code",
   "execution_count": null,
   "metadata": {
    "collapsed": true
   },
   "outputs": [],
   "source": []
  },
  {
   "cell_type": "code",
   "execution_count": null,
   "metadata": {
    "collapsed": true
   },
   "outputs": [],
   "source": []
  },
  {
   "cell_type": "code",
   "execution_count": null,
   "metadata": {
    "collapsed": true
   },
   "outputs": [],
   "source": []
  },
  {
   "cell_type": "code",
   "execution_count": null,
   "metadata": {
    "collapsed": true
   },
   "outputs": [],
   "source": []
  },
  {
   "cell_type": "code",
   "execution_count": null,
   "metadata": {
    "collapsed": true
   },
   "outputs": [],
   "source": []
  },
  {
   "cell_type": "markdown",
   "metadata": {},
   "source": [
    "# Evaluating CNN"
   ]
  },
  {
   "cell_type": "code",
   "execution_count": null,
   "metadata": {
    "collapsed": true
   },
   "outputs": [],
   "source": []
  },
  {
   "cell_type": "code",
   "execution_count": null,
   "metadata": {
    "collapsed": true
   },
   "outputs": [],
   "source": []
  },
  {
   "cell_type": "code",
   "execution_count": null,
   "metadata": {
    "collapsed": true
   },
   "outputs": [],
   "source": []
  },
  {
   "cell_type": "code",
   "execution_count": null,
   "metadata": {
    "collapsed": true
   },
   "outputs": [],
   "source": []
  },
  {
   "cell_type": "code",
   "execution_count": null,
   "metadata": {
    "collapsed": true
   },
   "outputs": [],
   "source": [
    "\n",
    "\n"
   ]
  },
  {
   "cell_type": "markdown",
   "metadata": {},
   "source": [
    "# Saving submission to file"
   ]
  },
  {
   "cell_type": "code",
   "execution_count": null,
   "metadata": {
    "collapsed": true
   },
   "outputs": [],
   "source": []
  },
  {
   "cell_type": "code",
   "execution_count": null,
   "metadata": {
    "collapsed": true
   },
   "outputs": [],
   "source": []
  },
  {
   "cell_type": "code",
   "execution_count": null,
   "metadata": {
    "collapsed": true
   },
   "outputs": [],
   "source": []
  },
  {
   "cell_type": "code",
   "execution_count": null,
   "metadata": {
    "collapsed": true
   },
   "outputs": [],
   "source": [
    "\n"
   ]
  },
  {
   "cell_type": "code",
   "execution_count": null,
   "metadata": {
    "collapsed": true
   },
   "outputs": [],
   "source": []
  },
  {
   "cell_type": "code",
   "execution_count": null,
   "metadata": {
    "collapsed": true
   },
   "outputs": [],
   "source": []
  },
  {
   "cell_type": "code",
   "execution_count": null,
   "metadata": {
    "collapsed": true
   },
   "outputs": [],
   "source": [
    "\n",
    "\n"
   ]
  }
 ],
 "metadata": {
  "kernelspec": {
   "display_name": "Python 3",
   "language": "python",
   "name": "python3"
  },
  "language_info": {
   "codemirror_mode": {
    "name": "ipython",
    "version": 3
   },
   "file_extension": ".py",
   "mimetype": "text/x-python",
   "name": "python",
   "nbconvert_exporter": "python",
   "pygments_lexer": "ipython3",
   "version": "3.6.3"
  }
 },
 "nbformat": 4,
 "nbformat_minor": 2
}
